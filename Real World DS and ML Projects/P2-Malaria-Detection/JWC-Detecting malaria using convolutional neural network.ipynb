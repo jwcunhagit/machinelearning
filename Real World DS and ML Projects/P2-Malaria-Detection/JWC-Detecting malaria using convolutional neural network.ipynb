{
  "nbformat": 4,
  "nbformat_minor": 0,
  "metadata": {
    "kernelspec": {
      "display_name": "Python 3",
      "language": "python",
      "name": "python3"
    },
    "language_info": {
      "codemirror_mode": {
        "name": "ipython",
        "version": 3
      },
      "file_extension": ".py",
      "mimetype": "text/x-python",
      "name": "python",
      "nbconvert_exporter": "python",
      "pygments_lexer": "ipython3",
      "version": "3.7.3"
    },
    "colab": {
      "name": "Detecting malaria using convolutional neural network.ipynb",
      "provenance": []
    }
  },
  "cells": [
    {
      "cell_type": "markdown",
      "metadata": {
        "id": "wbwc6PfvRh1A"
      },
      "source": [
        "## Detecting malaria using convolutional neural network"
      ]
    },
    {
      "cell_type": "markdown",
      "metadata": {
        "id": "KjaMNdqQRh1G"
      },
      "source": [
        "\n",
        "The dataset contains 2 folders - Infected - Uninfected\n",
        "\n",
        "And a total of 27,558 images.\n",
        "\n",
        "\n",
        "#### Save humans by detecting and deploying Image Cells that contain Malaria or not!\n",
        "\n",
        "https://www.kaggle.com/iarunava/cell-images-for-detecting-malaria"
      ]
    },
    {
      "cell_type": "code",
      "metadata": {
        "id": "GxuB8Qxa3CcK",
        "outputId": "c6346b70-4c99-46be-c540-41418be28aa1",
        "colab": {
          "base_uri": "https://localhost:8080/"
        }
      },
      "source": [
        "!pip install -q xlrd\n",
        "!git clone https://github.com/jwcunhagit/machinelearning.git"
      ],
      "execution_count": 3,
      "outputs": [
        {
          "output_type": "stream",
          "text": [
            "Cloning into 'machinelearning'...\n",
            "remote: Enumerating objects: 37850, done.\u001b[K\n",
            "remote: Counting objects: 100% (10240/10240), done.\u001b[K\n",
            "remote: Compressing objects: 100% (10162/10162), done.\u001b[K\n",
            "remote: Total 37850 (delta 82), reused 10228 (delta 75), pack-reused 27610\u001b[K\n",
            "Receiving objects: 100% (37850/37850), 307.01 MiB | 36.55 MiB/s, done.\n",
            "Resolving deltas: 100% (93/93), done.\n",
            "Checking out files: 100% (37814/37814), done.\n"
          ],
          "name": "stdout"
        }
      ]
    },
    {
      "cell_type": "code",
      "metadata": {
        "id": "-gyVeP56Rh1H"
      },
      "source": [
        "#importing libraries\n",
        "\n",
        "import numpy as np\n",
        "from keras.models import Sequential\n",
        "from keras.layers import Convolution2D\n",
        "from keras.layers import MaxPooling2D\n",
        "from keras.layers import Flatten\n",
        "from keras.layers import Dense\n",
        "from keras.preprocessing import image\n",
        "import warnings\n",
        "warnings.filterwarnings('ignore')"
      ],
      "execution_count": 4,
      "outputs": []
    },
    {
      "cell_type": "code",
      "metadata": {
        "id": "viXRYzcoRh1J"
      },
      "source": [
        "# initialising the CNN\n",
        "classifier = Sequential()"
      ],
      "execution_count": 5,
      "outputs": []
    },
    {
      "cell_type": "code",
      "metadata": {
        "id": "ldfzY0f2Rh1J"
      },
      "source": [
        "#step 1 Convolution\n",
        "classifier.add(Convolution2D(32, 3, 3, input_shape= (64, 64, 3), activation = 'relu'))\n",
        "\n",
        "#step 2 - Pooling\n",
        "classifier.add(MaxPooling2D(pool_size = (2,2)))\n",
        "\n",
        "#2nd layer\n",
        "classifier.add(Convolution2D(32, 3, 3, activation = 'relu'))\n",
        "classifier.add(MaxPooling2D(pool_size = (2,2)))\n",
        "\n",
        "#step 3 - Flattening\n",
        "classifier.add(Flatten())\n",
        "\n",
        "#step-4 Full connection\n",
        "classifier.add(Dense(128, activation = 'relu'))\n",
        "classifier.add(Dense(1, activation = 'sigmoid'))\n"
      ],
      "execution_count": 6,
      "outputs": []
    },
    {
      "cell_type": "code",
      "metadata": {
        "id": "59KLTcTpRh1K"
      },
      "source": [
        "# compile the CNN\n",
        "classifier.compile(optimizer = 'adam', loss = 'binary_crossentropy', metrics = ['accuracy'])"
      ],
      "execution_count": 7,
      "outputs": []
    },
    {
      "cell_type": "code",
      "metadata": {
        "id": "AVxtt7MqRh1K"
      },
      "source": [
        "from keras.preprocessing.image import ImageDataGenerator\n",
        "\n",
        "train_datagen = ImageDataGenerator(rescale = 1./255,\n",
        "                                  shear_range = 0.2,\n",
        "                                  zoom_range = 0.2,\n",
        "                                  horizontal_flip = True)\n",
        "\n",
        "test_datagen = ImageDataGenerator(rescale = 1./255)"
      ],
      "execution_count": 8,
      "outputs": []
    },
    {
      "cell_type": "code",
      "metadata": {
        "colab": {
          "base_uri": "https://localhost:8080/"
        },
        "id": "nzT25n8KRh1K",
        "outputId": "6bad9215-72b3-4550-d6a4-a5d47d8f3c97"
      },
      "source": [
        "training_set = train_datagen.flow_from_directory('machinelearning/Real World DS and ML Projects/P2-Malaria-Detection/cell_images/train',\n",
        "                                                target_size = (64, 64),\n",
        "                                                batch_size = 32,\n",
        "                                                class_mode = 'binary')"
      ],
      "execution_count": 9,
      "outputs": [
        {
          "output_type": "stream",
          "text": [
            "Found 22046 images belonging to 2 classes.\n"
          ],
          "name": "stdout"
        }
      ]
    },
    {
      "cell_type": "code",
      "metadata": {
        "colab": {
          "base_uri": "https://localhost:8080/"
        },
        "id": "Eq1gdXRJRh1L",
        "outputId": "675673b1-e609-4b74-e9e7-a057b276dfe6"
      },
      "source": [
        "test_set = test_datagen.flow_from_directory('machinelearning/Real World DS and ML Projects/P2-Malaria-Detection/cell_images/valid',\n",
        "                                                target_size = (64, 64),\n",
        "                                                batch_size = 32,\n",
        "                                                class_mode = 'binary')"
      ],
      "execution_count": 10,
      "outputs": [
        {
          "output_type": "stream",
          "text": [
            "Found 5512 images belonging to 2 classes.\n"
          ],
          "name": "stdout"
        }
      ]
    },
    {
      "cell_type": "code",
      "metadata": {
        "colab": {
          "base_uri": "https://localhost:8080/"
        },
        "id": "vPL3-DoRRh1L",
        "outputId": "e7d8c26a-dd87-4285-a199-44f3739c8d43"
      },
      "source": [
        "classifier.fit(training_set,\n",
        "               steps_per_epoch = 80,\n",
        "               epochs = 25,\n",
        "               validation_data = test_set,\n",
        "               validation_steps = 2000)"
      ],
      "execution_count": 17,
      "outputs": [
        {
          "output_type": "stream",
          "text": [
            "Epoch 1/25\n",
            "80/80 [==============================] - ETA: 0s - loss: 0.5458 - accuracy: 0.7125WARNING:tensorflow:Your input ran out of data; interrupting training. Make sure that your dataset or generator can generate at least `steps_per_epoch * epochs` batches (in this case, 2000 batches). You may need to use the repeat() function when building your dataset.\n",
            "80/80 [==============================] - 7s 92ms/step - loss: 0.5458 - accuracy: 0.7125 - val_loss: 0.5312 - val_accuracy: 0.7358\n",
            "Epoch 2/25\n",
            "80/80 [==============================] - ETA: 0s - loss: 0.5589 - accuracy: 0.7043WARNING:tensorflow:Your input ran out of data; interrupting training. Make sure that your dataset or generator can generate at least `steps_per_epoch * epochs` batches (in this case, 2000 batches). You may need to use the repeat() function when building your dataset.\n",
            "80/80 [==============================] - 7s 92ms/step - loss: 0.5589 - accuracy: 0.7043 - val_loss: 0.5720 - val_accuracy: 0.7014\n",
            "Epoch 3/25\n",
            "80/80 [==============================] - ETA: 0s - loss: 0.5645 - accuracy: 0.6824WARNING:tensorflow:Your input ran out of data; interrupting training. Make sure that your dataset or generator can generate at least `steps_per_epoch * epochs` batches (in this case, 2000 batches). You may need to use the repeat() function when building your dataset.\n",
            "80/80 [==============================] - 7s 91ms/step - loss: 0.5645 - accuracy: 0.6824 - val_loss: 0.5320 - val_accuracy: 0.7388\n",
            "Epoch 4/25\n",
            "80/80 [==============================] - ETA: 0s - loss: 0.5474 - accuracy: 0.7102WARNING:tensorflow:Your input ran out of data; interrupting training. Make sure that your dataset or generator can generate at least `steps_per_epoch * epochs` batches (in this case, 2000 batches). You may need to use the repeat() function when building your dataset.\n",
            "80/80 [==============================] - 7s 91ms/step - loss: 0.5474 - accuracy: 0.7102 - val_loss: 0.5411 - val_accuracy: 0.7173\n",
            "Epoch 5/25\n",
            "80/80 [==============================] - ETA: 0s - loss: 0.5609 - accuracy: 0.7000WARNING:tensorflow:Your input ran out of data; interrupting training. Make sure that your dataset or generator can generate at least `steps_per_epoch * epochs` batches (in this case, 2000 batches). You may need to use the repeat() function when building your dataset.\n",
            "80/80 [==============================] - 7s 92ms/step - loss: 0.5609 - accuracy: 0.7000 - val_loss: 0.5373 - val_accuracy: 0.7175\n",
            "Epoch 6/25\n",
            "80/80 [==============================] - ETA: 0s - loss: 0.5459 - accuracy: 0.7148WARNING:tensorflow:Your input ran out of data; interrupting training. Make sure that your dataset or generator can generate at least `steps_per_epoch * epochs` batches (in this case, 2000 batches). You may need to use the repeat() function when building your dataset.\n",
            "80/80 [==============================] - 7s 91ms/step - loss: 0.5459 - accuracy: 0.7148 - val_loss: 0.5168 - val_accuracy: 0.7438\n",
            "Epoch 7/25\n",
            "80/80 [==============================] - ETA: 0s - loss: 0.5486 - accuracy: 0.7240WARNING:tensorflow:Your input ran out of data; interrupting training. Make sure that your dataset or generator can generate at least `steps_per_epoch * epochs` batches (in this case, 2000 batches). You may need to use the repeat() function when building your dataset.\n",
            "80/80 [==============================] - 7s 92ms/step - loss: 0.5486 - accuracy: 0.7240 - val_loss: 0.5228 - val_accuracy: 0.7371\n",
            "Epoch 8/25\n",
            "80/80 [==============================] - ETA: 0s - loss: 0.5180 - accuracy: 0.7336WARNING:tensorflow:Your input ran out of data; interrupting training. Make sure that your dataset or generator can generate at least `steps_per_epoch * epochs` batches (in this case, 2000 batches). You may need to use the repeat() function when building your dataset.\n",
            "80/80 [==============================] - 7s 91ms/step - loss: 0.5180 - accuracy: 0.7336 - val_loss: 0.5114 - val_accuracy: 0.7375\n",
            "Epoch 9/25\n",
            "80/80 [==============================] - ETA: 0s - loss: 0.5253 - accuracy: 0.7422WARNING:tensorflow:Your input ran out of data; interrupting training. Make sure that your dataset or generator can generate at least `steps_per_epoch * epochs` batches (in this case, 2000 batches). You may need to use the repeat() function when building your dataset.\n",
            "80/80 [==============================] - 8s 94ms/step - loss: 0.5253 - accuracy: 0.7422 - val_loss: 0.5190 - val_accuracy: 0.7279\n",
            "Epoch 10/25\n",
            "80/80 [==============================] - ETA: 0s - loss: 0.5496 - accuracy: 0.7234WARNING:tensorflow:Your input ran out of data; interrupting training. Make sure that your dataset or generator can generate at least `steps_per_epoch * epochs` batches (in this case, 2000 batches). You may need to use the repeat() function when building your dataset.\n",
            "80/80 [==============================] - 7s 93ms/step - loss: 0.5496 - accuracy: 0.7234 - val_loss: 0.5423 - val_accuracy: 0.7226\n",
            "Epoch 11/25\n",
            "80/80 [==============================] - ETA: 0s - loss: 0.5428 - accuracy: 0.7215WARNING:tensorflow:Your input ran out of data; interrupting training. Make sure that your dataset or generator can generate at least `steps_per_epoch * epochs` batches (in this case, 2000 batches). You may need to use the repeat() function when building your dataset.\n",
            "80/80 [==============================] - 7s 91ms/step - loss: 0.5428 - accuracy: 0.7215 - val_loss: 0.5254 - val_accuracy: 0.7369\n",
            "Epoch 12/25\n",
            "80/80 [==============================] - ETA: 0s - loss: 0.5560 - accuracy: 0.6969WARNING:tensorflow:Your input ran out of data; interrupting training. Make sure that your dataset or generator can generate at least `steps_per_epoch * epochs` batches (in this case, 2000 batches). You may need to use the repeat() function when building your dataset.\n",
            "80/80 [==============================] - 7s 91ms/step - loss: 0.5560 - accuracy: 0.6969 - val_loss: 0.5023 - val_accuracy: 0.7460\n",
            "Epoch 13/25\n",
            "80/80 [==============================] - ETA: 0s - loss: 0.5300 - accuracy: 0.7332WARNING:tensorflow:Your input ran out of data; interrupting training. Make sure that your dataset or generator can generate at least `steps_per_epoch * epochs` batches (in this case, 2000 batches). You may need to use the repeat() function when building your dataset.\n",
            "80/80 [==============================] - 7s 93ms/step - loss: 0.5300 - accuracy: 0.7332 - val_loss: 0.5101 - val_accuracy: 0.7342\n",
            "Epoch 14/25\n",
            "80/80 [==============================] - ETA: 0s - loss: 0.5254 - accuracy: 0.7195WARNING:tensorflow:Your input ran out of data; interrupting training. Make sure that your dataset or generator can generate at least `steps_per_epoch * epochs` batches (in this case, 2000 batches). You may need to use the repeat() function when building your dataset.\n",
            "80/80 [==============================] - 7s 92ms/step - loss: 0.5254 - accuracy: 0.7195 - val_loss: 0.5121 - val_accuracy: 0.7442\n",
            "Epoch 15/25\n",
            "80/80 [==============================] - ETA: 0s - loss: 0.5273 - accuracy: 0.7248WARNING:tensorflow:Your input ran out of data; interrupting training. Make sure that your dataset or generator can generate at least `steps_per_epoch * epochs` batches (in this case, 2000 batches). You may need to use the repeat() function when building your dataset.\n",
            "80/80 [==============================] - 7s 92ms/step - loss: 0.5273 - accuracy: 0.7248 - val_loss: 0.5002 - val_accuracy: 0.7442\n",
            "Epoch 16/25\n",
            "80/80 [==============================] - ETA: 0s - loss: 0.5366 - accuracy: 0.7242WARNING:tensorflow:Your input ran out of data; interrupting training. Make sure that your dataset or generator can generate at least `steps_per_epoch * epochs` batches (in this case, 2000 batches). You may need to use the repeat() function when building your dataset.\n",
            "80/80 [==============================] - 7s 94ms/step - loss: 0.5366 - accuracy: 0.7242 - val_loss: 0.5315 - val_accuracy: 0.7137\n",
            "Epoch 17/25\n",
            "80/80 [==============================] - ETA: 0s - loss: 0.5284 - accuracy: 0.7275WARNING:tensorflow:Your input ran out of data; interrupting training. Make sure that your dataset or generator can generate at least `steps_per_epoch * epochs` batches (in this case, 2000 batches). You may need to use the repeat() function when building your dataset.\n",
            "80/80 [==============================] - 7s 92ms/step - loss: 0.5284 - accuracy: 0.7275 - val_loss: 0.5099 - val_accuracy: 0.7373\n",
            "Epoch 18/25\n",
            "80/80 [==============================] - ETA: 0s - loss: 0.5366 - accuracy: 0.7133WARNING:tensorflow:Your input ran out of data; interrupting training. Make sure that your dataset or generator can generate at least `steps_per_epoch * epochs` batches (in this case, 2000 batches). You may need to use the repeat() function when building your dataset.\n",
            "80/80 [==============================] - 7s 94ms/step - loss: 0.5366 - accuracy: 0.7133 - val_loss: 0.5103 - val_accuracy: 0.7389\n",
            "Epoch 19/25\n",
            "80/80 [==============================] - ETA: 0s - loss: 0.5410 - accuracy: 0.7172WARNING:tensorflow:Your input ran out of data; interrupting training. Make sure that your dataset or generator can generate at least `steps_per_epoch * epochs` batches (in this case, 2000 batches). You may need to use the repeat() function when building your dataset.\n",
            "80/80 [==============================] - 7s 93ms/step - loss: 0.5410 - accuracy: 0.7172 - val_loss: 0.5217 - val_accuracy: 0.7375\n",
            "Epoch 20/25\n",
            "80/80 [==============================] - ETA: 0s - loss: 0.5256 - accuracy: 0.7215WARNING:tensorflow:Your input ran out of data; interrupting training. Make sure that your dataset or generator can generate at least `steps_per_epoch * epochs` batches (in this case, 2000 batches). You may need to use the repeat() function when building your dataset.\n",
            "80/80 [==============================] - 7s 93ms/step - loss: 0.5256 - accuracy: 0.7215 - val_loss: 0.5161 - val_accuracy: 0.7291\n",
            "Epoch 21/25\n",
            "80/80 [==============================] - ETA: 0s - loss: 0.5357 - accuracy: 0.7242WARNING:tensorflow:Your input ran out of data; interrupting training. Make sure that your dataset or generator can generate at least `steps_per_epoch * epochs` batches (in this case, 2000 batches). You may need to use the repeat() function when building your dataset.\n",
            "80/80 [==============================] - 7s 93ms/step - loss: 0.5357 - accuracy: 0.7242 - val_loss: 0.5300 - val_accuracy: 0.7161\n",
            "Epoch 22/25\n",
            "80/80 [==============================] - ETA: 0s - loss: 0.5334 - accuracy: 0.7211WARNING:tensorflow:Your input ran out of data; interrupting training. Make sure that your dataset or generator can generate at least `steps_per_epoch * epochs` batches (in this case, 2000 batches). You may need to use the repeat() function when building your dataset.\n",
            "80/80 [==============================] - 7s 94ms/step - loss: 0.5334 - accuracy: 0.7211 - val_loss: 0.5120 - val_accuracy: 0.7449\n",
            "Epoch 23/25\n",
            "80/80 [==============================] - ETA: 0s - loss: 0.5175 - accuracy: 0.7410WARNING:tensorflow:Your input ran out of data; interrupting training. Make sure that your dataset or generator can generate at least `steps_per_epoch * epochs` batches (in this case, 2000 batches). You may need to use the repeat() function when building your dataset.\n",
            "80/80 [==============================] - 7s 91ms/step - loss: 0.5175 - accuracy: 0.7410 - val_loss: 0.5126 - val_accuracy: 0.7455\n",
            "Epoch 24/25\n",
            "80/80 [==============================] - ETA: 0s - loss: 0.5052 - accuracy: 0.7492WARNING:tensorflow:Your input ran out of data; interrupting training. Make sure that your dataset or generator can generate at least `steps_per_epoch * epochs` batches (in this case, 2000 batches). You may need to use the repeat() function when building your dataset.\n",
            "80/80 [==============================] - 7s 92ms/step - loss: 0.5052 - accuracy: 0.7492 - val_loss: 0.5348 - val_accuracy: 0.7290\n",
            "Epoch 25/25\n",
            "80/80 [==============================] - ETA: 0s - loss: 0.5458 - accuracy: 0.7105WARNING:tensorflow:Your input ran out of data; interrupting training. Make sure that your dataset or generator can generate at least `steps_per_epoch * epochs` batches (in this case, 2000 batches). You may need to use the repeat() function when building your dataset.\n",
            "80/80 [==============================] - 7s 93ms/step - loss: 0.5458 - accuracy: 0.7105 - val_loss: 0.5113 - val_accuracy: 0.7415\n"
          ],
          "name": "stdout"
        },
        {
          "output_type": "execute_result",
          "data": {
            "text/plain": [
              "<tensorflow.python.keras.callbacks.History at 0x7f7b6fc7cad0>"
            ]
          },
          "metadata": {
            "tags": []
          },
          "execution_count": 17
        }
      ]
    },
    {
      "cell_type": "code",
      "metadata": {
        "id": "gqS2v40i791K"
      },
      "source": [
        "import matplotlib.pyplot as plt"
      ],
      "execution_count": 24,
      "outputs": []
    },
    {
      "cell_type": "code",
      "metadata": {
        "colab": {
          "base_uri": "https://localhost:8080/",
          "height": 302
        },
        "id": "cncADMl3Rh1L",
        "outputId": "a1acd5b0-7b20-4cff-d6e1-8421a847b8a1"
      },
      "source": [
        "#test a new single image\n",
        "test_image1= image.load_img('machinelearning/Real World DS and ML Projects/P2-Malaria-Detection/cell_images/random1.png', target_size = (64,64))\n",
        "test_image = image.img_to_array(test_image1)\n",
        "test_image = np.expand_dims(test_image, axis=0)\n",
        "result = classifier.predict(test_image)\n",
        "training_set.class_indices\n",
        "\n",
        "if result[0][0]>= 0.5:\n",
        "    prediction= 'Not infected'\n",
        "else:\n",
        "    prediction = 'Infected **'\n",
        "\n",
        "print(prediction)\n",
        "plt.imshow(test_image1)"
      ],
      "execution_count": 23,
      "outputs": [
        {
          "output_type": "stream",
          "text": [
            "Not infected\n"
          ],
          "name": "stdout"
        },
        {
          "output_type": "execute_result",
          "data": {
            "text/plain": [
              "<matplotlib.image.AxesImage at 0x7f7b6fe41110>"
            ]
          },
          "metadata": {
            "tags": []
          },
          "execution_count": 23
        },
        {
          "output_type": "display_data",
          "data": {
            "image/png": "[encoded data removed]",
            "text/plain": [
              "<Figure size 432x288 with 1 Axes>"
            ]
          },
          "metadata": {
            "tags": [],
            "needs_background": "light"
          }
        }
      ]
    },
    {
      "cell_type": "code",
      "metadata": {
        "colab": {
          "base_uri": "https://localhost:8080/",
          "height": 302
        },
        "id": "VHAEFAyQRh1M",
        "outputId": "a291bd18-91f2-486d-ddf0-d8b19612003c"
      },
      "source": [
        "#test a new single image\n",
        "test_image1= image.load_img('machinelearning/Real World DS and ML Projects/P2-Malaria-Detection/cell_images/random2.png', target_size = (64,64))\n",
        "test_image = image.img_to_array(test_image1)\n",
        "test_image = np.expand_dims(test_image, axis=0)\n",
        "result = classifier.predict(test_image)\n",
        "training_set.class_indices\n",
        "\n",
        "if result[0][0]>= 0.5:\n",
        "    prediction= 'Not infected'\n",
        "else:\n",
        "    prediction = 'Infected **'\n",
        "\n",
        "print(prediction)\n",
        "plt.imshow(test_image1)"
      ],
      "execution_count": 25,
      "outputs": [
        {
          "output_type": "stream",
          "text": [
            "Infected **\n"
          ],
          "name": "stdout"
        },
        {
          "output_type": "execute_result",
          "data": {
            "text/plain": [
              "<matplotlib.image.AxesImage at 0x7f7b6fdb8150>"
            ]
          },
          "metadata": {
            "tags": []
          },
          "execution_count": 25
        },
        {
          "output_type": "display_data",
          "data": {
            "image/png": "[encoded data removed]",
            "text/plain": [
              "<Figure size 432x288 with 1 Axes>"
            ]
          },
          "metadata": {
            "tags": [],
            "needs_background": "light"
          }
        }
      ]
    },
    {
      "cell_type": "code",
      "metadata": {
        "colab": {
          "base_uri": "https://localhost:8080/",
          "height": 302
        },
        "id": "WAv6HkkDRh1M",
        "outputId": "9cd63bd9-2f54-4dfe-f7f6-720426bbda12"
      },
      "source": [
        "#test a new single image\n",
        "test_image1= image.load_img('machinelearning/Real World DS and ML Projects/P2-Malaria-Detection/cell_images/random3.png', target_size = (64,64))\n",
        "test_image = image.img_to_array(test_image1)\n",
        "test_image = np.expand_dims(test_image, axis=0)\n",
        "result = classifier.predict(test_image)\n",
        "training_set.class_indices\n",
        "\n",
        "if result[0][0]>= 0.5:\n",
        "    prediction= 'Not infected'\n",
        "else:\n",
        "    prediction = 'Infected **'\n",
        "\n",
        "print(prediction)\n",
        "plt.imshow(test_image1)"
      ],
      "execution_count": 26,
      "outputs": [
        {
          "output_type": "stream",
          "text": [
            "Not infected\n"
          ],
          "name": "stdout"
        },
        {
          "output_type": "execute_result",
          "data": {
            "text/plain": [
              "<matplotlib.image.AxesImage at 0x7f7b6fd1fdd0>"
            ]
          },
          "metadata": {
            "tags": []
          },
          "execution_count": 26
        },
        {
          "output_type": "display_data",
          "data": {
            "image/png": "[encoded data removed]",
            "text/plain": [
              "<Figure size 432x288 with 1 Axes>"
            ]
          },
          "metadata": {
            "tags": [],
            "needs_background": "light"
          }
        }
      ]
    },
    {
      "cell_type": "code",
      "metadata": {
        "colab": {
          "base_uri": "https://localhost:8080/",
          "height": 302
        },
        "id": "F7CtX-OhRh1N",
        "outputId": "3c30aa80-cb54-4a74-812a-b24a4e4ef792"
      },
      "source": [
        "#test a new single image\n",
        "test_image1= image.load_img('machinelearning/Real World DS and ML Projects/P2-Malaria-Detection/cell_images/random4.png', target_size = (64,64))\n",
        "test_image = image.img_to_array(test_image1)\n",
        "test_image = np.expand_dims(test_image, axis=0)\n",
        "result = classifier.predict(test_image)\n",
        "training_set.class_indices\n",
        "\n",
        "if result[0][0]>= 0.5:\n",
        "    prediction= 'Not infected'\n",
        "else:\n",
        "    prediction = 'Infected **'\n",
        "\n",
        "print(prediction)\n",
        "plt.imshow(test_image1)"
      ],
      "execution_count": 27,
      "outputs": [
        {
          "output_type": "stream",
          "text": [
            "Infected **\n"
          ],
          "name": "stdout"
        },
        {
          "output_type": "execute_result",
          "data": {
            "text/plain": [
              "<matplotlib.image.AxesImage at 0x7f7b6d8419d0>"
            ]
          },
          "metadata": {
            "tags": []
          },
          "execution_count": 27
        },
        {
          "output_type": "display_data",
          "data": {
            "image/png": "[encoded data removed]",
            "text/plain": [
              "<Figure size 432x288 with 1 Axes>"
            ]
          },
          "metadata": {
            "tags": [],
            "needs_background": "light"
          }
        }
      ]
    },
    {
      "cell_type": "code",
      "metadata": {
        "colab": {
          "base_uri": "https://localhost:8080/",
          "height": 302
        },
        "id": "GBckaR68Rh1N",
        "outputId": "0efdd35f-4943-4c65-b1bf-e676b0db1846"
      },
      "source": [
        "#test a new single image\n",
        "test_image1= image.load_img('machinelearning/Real World DS and ML Projects/P2-Malaria-Detection/cell_images/random5.png', target_size = (64,64))\n",
        "test_image = image.img_to_array(test_image1)\n",
        "test_image = np.expand_dims(test_image, axis=0)\n",
        "result = classifier.predict(test_image)\n",
        "training_set.class_indices\n",
        "\n",
        "if result[0][0]>= 0.5:\n",
        "    prediction= 'Not infected'\n",
        "else:\n",
        "    prediction = 'Infected **'\n",
        "\n",
        "print(prediction)\n",
        "plt.imshow(test_image1)"
      ],
      "execution_count": 29,
      "outputs": [
        {
          "output_type": "stream",
          "text": [
            "Infected **\n"
          ],
          "name": "stdout"
        },
        {
          "output_type": "execute_result",
          "data": {
            "text/plain": [
              "<matplotlib.image.AxesImage at 0x7f7b6d7aa1d0>"
            ]
          },
          "metadata": {
            "tags": []
          },
          "execution_count": 29
        },
        {
          "output_type": "display_data",
          "data": {
            "image/png": "[encoded data removed]",
            "text/plain": [
              "<Figure size 432x288 with 1 Axes>"
            ]
          },
          "metadata": {
            "tags": [],
            "needs_background": "light"
          }
        }
      ]
    },
    {
      "cell_type": "code",
      "metadata": {
        "id": "oHCKAbpxRh1O"
      },
      "source": [
        ""
      ],
      "execution_count": null,
      "outputs": []
    }
  ]
}